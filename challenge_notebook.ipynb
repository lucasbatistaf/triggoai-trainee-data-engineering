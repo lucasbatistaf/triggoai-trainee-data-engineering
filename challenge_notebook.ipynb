{
 "cells": [
  {
   "cell_type": "markdown",
   "id": "5f27c0be",
   "metadata": {},
   "source": [
    "## Teste Técnico - Programa Trainee triggo.ai 2025"
   ]
  },
  {
   "cell_type": "markdown",
   "id": "990ea7eb",
   "metadata": {},
   "source": [
    "### Other packages used in this notebook"
   ]
  },
  {
   "cell_type": "code",
   "execution_count": null,
   "id": "14368191",
   "metadata": {},
   "outputs": [],
   "source": [
    "# %pip install numpy\n",
    "# %pip install pandas\n",
    "\n",
    "# %pip install duckdb\n",
    "# %pip install kagglehub\n",
    "\n",
    "# %pip install matplotlib\n",
    "# %pip install seaborn\n",
    "\n",
    "# %pip install geopy"
   ]
  },
  {
   "cell_type": "markdown",
   "id": "e266b781",
   "metadata": {},
   "source": [
    "### Imports"
   ]
  },
  {
   "cell_type": "code",
   "execution_count": null,
   "id": "eeef9d9b",
   "metadata": {},
   "outputs": [],
   "source": [
    "import numpy as np\n",
    "import pandas as pd\n",
    "import duckdb\n",
    "import kagglehub\n",
    "\n",
    "import matplotlib.pyplot as plt\n",
    "import seaborn as sns\n",
    "\n",
    "from geopy import distance \n",
    "\n",
    "\n",
    "from sklearn.linear_model import LogisticRegression\n",
    "\n",
    "from sklearn.model_selection import StratifiedKFold\n",
    "from sklearn.model_selection import train_test_split\n",
    "from sklearn.model_selection import GridSearchCV\n",
    "\n",
    "from sklearn.pipeline import make_pipeline\n",
    "from sklearn.pipeline import Pipeline\n",
    "\n",
    "from sklearn.metrics import accuracy_score\n",
    "from sklearn.metrics import recall_score\n",
    "from sklearn.metrics import precision_score\n",
    "from sklearn.metrics import f1_score\n",
    "from sklearn.metrics import ConfusionMatrixDisplay"
   ]
  },
  {
   "cell_type": "markdown",
   "id": "c5ac5805",
   "metadata": {},
   "source": [
    "# Part 1:\n",
    "\n",
    "## Data Loading and Cleaning\n",
    "\n",
    "This project is divided in 4 parts and each part have it's own particular questions:\n",
    "- Data cleaning and modelling.\n",
    "    - Importing the dataset .csv file from Kaggle (\"olistbr/brazilian-ecommerce\")\n",
    "    - Data cleaning and normalizing\n",
    "    - Creation of a relational data modelling\n",
    "    - Describing each step in the data prep"
   ]
  },
  {
   "cell_type": "markdown",
   "id": "3a2b7b1b",
   "metadata": {},
   "source": [
    "### Kaggle dataset download"
   ]
  },
  {
   "cell_type": "code",
   "execution_count": null,
   "id": "bd24b594",
   "metadata": {},
   "outputs": [],
   "source": [
    "# Download latest version\n",
    "path = kagglehub.dataset_download(\"olistbr/brazilian-ecommerce\")\n",
    "\n",
    "print(\"Path to dataset files:\", path)"
   ]
  },
  {
   "cell_type": "markdown",
   "id": "6f6ef1a8",
   "metadata": {},
   "source": [
    "### Reading the datasets into Pandas DataFrames\n",
    "\n",
    "Listing all the 9 datasets and describing them:\n",
    "\n",
    "- olist_customers_dataset.csv\n",
    "    - Contains information about the customers\n",
    "    - Raw column names: customer_id, customer_unique_id, customer_zip_code_prefix, customer_city and customer_state\n",
    "- olist_geolocation_dataset.csv\n",
    "    - Contains geolocalization information of every geolocation in the dataset\n",
    "    - Raw column names: geolocation_zip_code_prefix, geolocation_lat, geolocation_lng, geolocation_city, geolocation_state\n",
    "- olist_order_items_dataset.csv\n",
    "    - Contains information about the customers\n",
    "    - Raw column names: order_id, order_item_id, product_id, seller_id, shipping_limit_date, price, freight_value\n",
    "- olist_order_payments_dataset.csv\n",
    "    - Contains information the orders payments\n",
    "    - Raw column names: order_id, payment_sequential, payment_type, payment_installments, payment_value\n",
    "- olist_order_reviews_dataset.csv\n",
    "    - Contains information about the reviews from customers for every order\n",
    "    - Raw column names: review_id, order_id, review_score, review_comment_title, review_comment_message, review_creation_date, review_answer_timest\n",
    "- olist_orders_dataset.csv\n",
    "    - Contains information about orders details\n",
    "    - Raw column names: order_id,customer_id, order_status, order_purchase_timestamp, order_approved_at, order_delivered_carrier_date, order_delivered_customer_date,order_estimated_delivery_date\n",
    "- olist_products_dataset\n",
    "    - Contains information about products details\n",
    "    - Raw column names: product_id, product_category_name,product_name_lenght,product_description_lenght,product_photos_qty,product_weight_g,product_length_cm,product_height_cm,product_width_cm\n",
    "- olist_sellers_dataset\n",
    "    - Contains information about the sellers\n",
    "    - Raw column names: seller_id, seller_zip_code_prefix, seller_city, seller_state\n",
    "- product_category_name_translation\n",
    "    - Contains name translations, wont be used in this project"
   ]
  },
  {
   "cell_type": "markdown",
   "id": "2399b2f5",
   "metadata": {},
   "source": [
    "![Table Diagram](<Table Diagram.png>)"
   ]
  },
  {
   "cell_type": "markdown",
   "id": "3799b41a",
   "metadata": {},
   "source": [
    "- Defining a function to convert timestamp to date\n",
    "- Defining a function to fill null comments"
   ]
  },
  {
   "cell_type": "code",
   "execution_count": null,
   "id": "960e66ae",
   "metadata": {},
   "outputs": [],
   "source": [
    "def convert_to_date(df, column_name):\n",
    "    for col in column_name:\n",
    "        df[col] = pd.to_datetime(df[col]).dt.date\n",
    "    return df\n",
    "\n",
    "def fill_null(df, column_name, value):\n",
    "    for col in column_name:\n",
    "        df[col] = df[col].fillna(value = value)\n",
    "    return df"
   ]
  },
  {
   "cell_type": "markdown",
   "id": "6c007d85",
   "metadata": {},
   "source": [
    "### Read the olist_customers_dataset.csv into df_customers\n"
   ]
  },
  {
   "cell_type": "code",
   "execution_count": null,
   "id": "9c6cface",
   "metadata": {},
   "outputs": [],
   "source": [
    "dtype = {'customer_zip_code_prefix': 'string'}\n",
    "\n",
    "df_customers = pd.read_csv(path + r\"\\olist_customers_dataset.csv\", dtype=dtype)\n",
    "\n",
    "df_customers['customer_city'] = df_customers['customer_city'].str.title()\n",
    "\n",
    "df_customers.head()"
   ]
  },
  {
   "cell_type": "markdown",
   "id": "3a4a4c24",
   "metadata": {},
   "source": [
    "### Read the olist_geolocation_dataset.csv into df_geolocation\n"
   ]
  },
  {
   "cell_type": "code",
   "execution_count": null,
   "id": "80f58756",
   "metadata": {},
   "outputs": [],
   "source": [
    "dtype = {'geolocation_zip_code_prefix': 'string'}\n",
    "\n",
    "df_geolocation = pd.read_csv(path + r\"\\olist_geolocation_dataset.csv\", dtype=dtype)\n",
    "\n",
    "df_geolocation['geolocation_city'] = df_geolocation['geolocation_city'].str.title()\n",
    "\n",
    "df_geolocation.head()"
   ]
  },
  {
   "cell_type": "markdown",
   "id": "88b2130e",
   "metadata": {},
   "source": [
    "### Read the olist_order_items_dataset.csv into df_order_items\n"
   ]
  },
  {
   "cell_type": "code",
   "execution_count": null,
   "id": "b5653c3c",
   "metadata": {},
   "outputs": [],
   "source": [
    "parse_dates = ['shipping_limit_date']\n",
    "\n",
    "df_order_items = pd.read_csv(path + r\"\\olist_order_items_dataset.csv\", parse_dates=parse_dates)\n",
    "\n",
    "df_order_items = convert_to_date(df_order_items, parse_dates)\n",
    "\n",
    "df_order_items.head()"
   ]
  },
  {
   "cell_type": "markdown",
   "id": "518176c3",
   "metadata": {},
   "source": [
    "### Read the olist_order_payments_dataset.csv to df_order_payments\n"
   ]
  },
  {
   "cell_type": "code",
   "execution_count": null,
   "id": "80d6c467",
   "metadata": {},
   "outputs": [],
   "source": [
    "df_order_payments = pd.read_csv(path + r\"\\olist_order_payments_dataset.csv\")\n",
    "\n",
    "df_order_payments['payment_type'] = df_order_payments['payment_type'].str.replace(\"_\", \" \")\n",
    "df_order_payments['payment_type'] = df_order_payments['payment_type'].str.title()\n",
    "\n",
    "df_order_payments.head()"
   ]
  },
  {
   "cell_type": "markdown",
   "id": "ae763b38",
   "metadata": {},
   "source": [
    "### Read the olist_order_reviews_dataset.csv to df_order_reviews\n"
   ]
  },
  {
   "cell_type": "code",
   "execution_count": null,
   "id": "a8ba27b3",
   "metadata": {},
   "outputs": [],
   "source": [
    "parse_dates = ['review_creation_date', 'review_answer_timestamp']\n",
    "comment_columns = ['review_comment_title', 'review_comment_message']\n",
    "\n",
    "df_order_reviews = pd.read_csv(path + r\"\\olist_order_reviews_dataset.csv\", parse_dates=parse_dates)\n",
    "\n",
    "df_order_reviews = convert_to_date(df_order_reviews, parse_dates)\n",
    "\n",
    "df_order_reviews = fill_null(df_order_reviews, comment_columns, 'No review')\n",
    "\n",
    "df_order_reviews.head()"
   ]
  },
  {
   "cell_type": "markdown",
   "id": "e408e192",
   "metadata": {},
   "source": [
    "### Read the olist_orders_dataset.csv to df_orders\n"
   ]
  },
  {
   "cell_type": "code",
   "execution_count": null,
   "id": "ed5b12f2",
   "metadata": {},
   "outputs": [],
   "source": [
    "parse_dates = ['order_purchase_timestamp', 'order_approved_at', 'order_delivered_carrier_date', 'order_delivered_customer_date', 'order_estimated_delivery_date']\n",
    "\n",
    "df_orders = pd.read_csv(path + r\"\\olist_orders_dataset.csv\", parse_dates=parse_dates)\n",
    "\n",
    "df_orders = convert_to_date(df_orders, parse_dates)\n",
    "\n",
    "df_orders.head()"
   ]
  },
  {
   "cell_type": "markdown",
   "id": "4f2d4831",
   "metadata": {},
   "source": [
    "### Read the olist_products_dataset.csv to df_products\n",
    "\n",
    "Remove underlines and capitalize first letters from product_category_name"
   ]
  },
  {
   "cell_type": "code",
   "execution_count": null,
   "id": "e49689a4",
   "metadata": {},
   "outputs": [],
   "source": [
    "df_products = pd.read_csv(path + r\"\\olist_products_dataset.csv\")\n",
    "\n",
    "df_products['product_category_name'] = df_products['product_category_name'].str.replace(\"_\", \" \")\n",
    "df_products['product_category_name'] = df_products['product_category_name'].str.title()\n",
    "\n",
    "df_products = fill_null(df=df_products, column_name=['product_category_name'], value='No Category')\n",
    "\n",
    "df_products.head()"
   ]
  },
  {
   "cell_type": "markdown",
   "id": "c4866921",
   "metadata": {},
   "source": [
    "### Read the olist_sellers_dataset.csv to df_sellers\n",
    "\n",
    "- First letters up using the title() method"
   ]
  },
  {
   "cell_type": "code",
   "execution_count": null,
   "id": "cc504765",
   "metadata": {},
   "outputs": [],
   "source": [
    "dtype = {'seller_zip_code_prefix': 'string'}\n",
    "\n",
    "df_sellers = pd.read_csv(path + r\"\\olist_sellers_dataset.csv\", dtype=dtype)\n",
    "\n",
    "df_sellers['seller_city'] = df_sellers['seller_city'].str.title()\n",
    "\n",
    "df_sellers.head()"
   ]
  },
  {
   "cell_type": "markdown",
   "id": "7a22ad2d",
   "metadata": {},
   "source": [
    "# Part 2:\n",
    "\n",
    "## Exploratory Analysis\n",
    "\n",
    "- Exploratory analysis using SQL and Python\n",
    "    - Orders volume per month and its seasonality\n",
    "    - The distribution of orders delivery time\n",
    "    - The relationship between delivery costs and delivery distance\n",
    "    - Which are the best-selling products in revenue\n",
    "    - Brazilian states with the highest average order value"
   ]
  },
  {
   "cell_type": "markdown",
   "id": "8ecd605b",
   "metadata": {},
   "source": [
    "### Orders volume per month and its seasonality\n",
    "\n",
    "Here I used datetrunc to get the months of every date, then format with strftime, to get only a Month date. If datepart was used it would return an Integer instead of a String, so I prefer this way."
   ]
  },
  {
   "cell_type": "code",
   "execution_count": null,
   "id": "794719f5",
   "metadata": {},
   "outputs": [],
   "source": [
    "orders_per_month = duckdb.query(\n",
    "                                    \"\"\"\n",
    "                                    SELECT \n",
    "                                        strftime(datetrunc('month', order_purchase_timestamp), '%m') AS month, \n",
    "                                        COUNT(order_id) AS count_orders \n",
    "                                    FROM df_orders \n",
    "                                    GROUP BY month \n",
    "                                    ORDER BY month\n",
    "                                    \"\"\"\n",
    "\n",
    "                                ).df()\n",
    "\n",
    "orders_per_month"
   ]
  },
  {
   "cell_type": "markdown",
   "id": "a0097942",
   "metadata": {},
   "source": [
    "### Months of August, May and July were the top 3 orders per months\n",
    "\n",
    "Im using iloc to get the first and second columns"
   ]
  },
  {
   "cell_type": "code",
   "execution_count": null,
   "id": "5d37219e",
   "metadata": {},
   "outputs": [],
   "source": [
    "month = orders_per_month.iloc[:, 0]\n",
    "count_orders = orders_per_month.iloc[:, 1]\n",
    "\n",
    "plt.bar(month, count_orders)\n",
    "plt.title('Orders per Month')\n",
    "plt.xlabel('Month')\n",
    "plt.ylabel('Orders')\n",
    "plt.show()\n"
   ]
  },
  {
   "cell_type": "markdown",
   "id": "ffcb3a52",
   "metadata": {},
   "source": [
    "### The Distribution of orders delivery time\n",
    "\n",
    "To calculate the delivery time, Im using the order_delivered_customer_date as delivery time and the order_approved_at when the timer to the order be shipped\n",
    "\n",
    "Calculating the mode of the dataset, to get the most frequent day to delivery\n",
    "\n",
    "Selection only orders with the order_status = delivered"
   ]
  },
  {
   "cell_type": "code",
   "execution_count": null,
   "id": "48ead39c",
   "metadata": {},
   "outputs": [],
   "source": [
    "order_delivery_time = duckdb.query(\n",
    "                                    \"\"\"\n",
    "                                    SELECT\n",
    "                                        order_id, \n",
    "                                        datediff('day', order_approved_at, order_delivered_customer_date) AS day_to_delivery \n",
    "                                    FROM df_orders \n",
    "                                    WHERE order_status = 'delivered'\n",
    "                                    \"\"\"\n",
    "\n",
    "                                ).df()\n",
    "\n",
    "print('Mode: ', order_delivery_time.day_to_delivery.mode())"
   ]
  },
  {
   "cell_type": "code",
   "execution_count": null,
   "id": "8eca7360",
   "metadata": {},
   "outputs": [],
   "source": [
    "sns.displot(order_delivery_time, x=\"day_to_delivery\", binwidth=3)"
   ]
  },
  {
   "cell_type": "markdown",
   "id": "c8a5004e",
   "metadata": {},
   "source": [
    "### SQL JOINs to get the right data from the multiple tables\n",
    "\n",
    "- Starting with Customer table joining Geolocation table, to get the latitute and longitude from each customer\n",
    "- As latitude and Longitude coulh have multiple values for each zip code, I decided to use the AVG function to get an average of each location\n",
    "- Then joining Customer table with Orders table to get the order_id"
   ]
  },
  {
   "cell_type": "code",
   "execution_count": null,
   "id": "3242cfac",
   "metadata": {},
   "outputs": [],
   "source": [
    "customer_geo = duckdb.query(\n",
    "\"\"\"\n",
    "  SELECT\n",
    "    c.customer_unique_id,\n",
    "    c.customer_zip_code_prefix,\n",
    "    c.customer_city,\n",
    "    c.customer_state,\n",
    "    o.order_id,\n",
    "    o.order_status,\n",
    "    COALESCE(o.order_approved_at, o.order_purchase_timestamp) AS order_approved_at,\n",
    "    o.order_delivered_customer_date,\n",
    "    o.order_estimated_delivery_date,\n",
    "    AVG(g.geolocation_lat) AS customer_lat,\n",
    "    AVG(g.geolocation_lng) AS customer_lng\n",
    "  FROM\n",
    "    df_customers AS c\n",
    "  INNER JOIN\n",
    "    df_geolocation AS g\n",
    "      ON c.customer_zip_code_prefix = g.geolocation_zip_code_prefix\n",
    "      AND c.customer_city = g.geolocation_city\n",
    "      AND c.customer_state = g.geolocation_state\n",
    "  INNER JOIN \n",
    "    df_orders AS o\n",
    "      ON c.customer_id = o.customer_id\n",
    "      AND order_status = 'delivered'\n",
    "  GROUP BY\n",
    "    1,2,3,4,5,6,7,8,9\n",
    "\"\"\"\n",
    ").df()\n",
    "\n",
    "customer_geo.head()"
   ]
  },
  {
   "cell_type": "markdown",
   "id": "33cab066",
   "metadata": {},
   "source": [
    "Joining the customer_geo table with df_order_items, to get some metrics and to join with df_products, to get products metrics, for usage in the freight calculation "
   ]
  },
  {
   "cell_type": "code",
   "execution_count": null,
   "id": "562a1cd8",
   "metadata": {},
   "outputs": [],
   "source": [
    "\n",
    "order_products = duckdb.query(\n",
    "\"\"\"\n",
    "  SELECT\n",
    "    cg.customer_unique_id,\n",
    "    cg.customer_zip_code_prefix,\n",
    "    cg.customer_city,\n",
    "    cg.customer_state,\n",
    "    cg.customer_lat,\n",
    "    cg.customer_lng,\n",
    "    cg.order_id,\n",
    "    cg.order_status,\n",
    "    cg.order_approved_at,\n",
    "    cg.order_delivered_customer_date,\n",
    "    cg.order_estimated_delivery_date, \n",
    "    oi.seller_id,\n",
    "    oi.product_id,\n",
    "    oi.price,\n",
    "    oi.freight_value,\n",
    "    p.product_category_name\n",
    "  FROM \n",
    "    customer_geo AS cg\n",
    "  INNER JOIN   \n",
    "    df_order_items AS oi\n",
    "      ON cg.order_id = oi.order_id\n",
    "  INNER JOIN   \n",
    "    df_products AS p\n",
    "      ON oi.product_id = p.product_id\n",
    "\"\"\"\n",
    ").df()\n",
    "\n",
    "order_products"
   ]
  },
  {
   "cell_type": "markdown",
   "id": "7bf10e55",
   "metadata": {},
   "source": [
    "- Joining the seller_df and the geolocation_df to get the seller localization\n",
    "- Again, using the AVG function to get an average of each zip_code"
   ]
  },
  {
   "cell_type": "code",
   "execution_count": null,
   "id": "55ada3e0",
   "metadata": {},
   "outputs": [],
   "source": [
    "\n",
    "seller_geo = duckdb.query(\n",
    "\"\"\"\n",
    "  SELECT\n",
    "    s.seller_id,\n",
    "    s.seller_zip_code_prefix,\n",
    "    s.seller_city,\n",
    "    s.seller_state,\n",
    "    AVG(g.geolocation_lat) AS seller_lat,\n",
    "    AVG(g.geolocation_lng) AS seller_lng\n",
    "  FROM\n",
    "    df_sellers AS s\n",
    "  INNER JOIN\n",
    "    df_geolocation AS g\n",
    "      ON s.seller_zip_code_prefix = g.geolocation_zip_code_prefix\n",
    "      AND s.seller_city = g.geolocation_city\n",
    "      AND s.seller_state = g.geolocation_state\n",
    "  GROUP BY\n",
    "    1,2,3,4\n",
    "\"\"\"\n",
    ").df()\n",
    "\n",
    "seller_geo.head()"
   ]
  },
  {
   "cell_type": "markdown",
   "id": "2e0fac81",
   "metadata": {},
   "source": [
    "- Joining the order_products with the seller_geo df to get the sellers data\n",
    "- Joining order_products with the df_order_reviews, and get the review score\n",
    "- Use the coalesce function to give a 0 to the review_score in case it was NULL (the customer didnt review)"
   ]
  },
  {
   "cell_type": "code",
   "execution_count": null,
   "id": "5c3db82c",
   "metadata": {},
   "outputs": [],
   "source": [
    "master_table = duckdb.query(\n",
    "\"\"\"\n",
    "  SELECT\n",
    "    op.order_id,\n",
    "    coalesce(r.review_score,0) AS review_score,\n",
    "    order_status,\n",
    "    order_approved_at,\n",
    "    order_delivered_customer_date,\n",
    "    order_estimated_delivery_date, \n",
    "\n",
    "    product_id,\n",
    "    price,\n",
    "    freight_value,\n",
    "    product_category_name,\n",
    "\n",
    "    customer_unique_id,\n",
    "    customer_zip_code_prefix,\n",
    "    customer_city,\n",
    "    customer_state,\n",
    "    customer_lat,\n",
    "    customer_lng,\n",
    "\n",
    "    s.seller_id,\n",
    "    s.seller_zip_code_prefix,\n",
    "    s.seller_city,\n",
    "    s.seller_state,\n",
    "    seller_lat,\n",
    "    seller_lng\n",
    "  FROM\n",
    "    order_products AS op\n",
    "  INNER JOIN\n",
    "    seller_geo AS s\n",
    "      ON op.seller_id = s.seller_id\n",
    "  LEFT JOIN\n",
    "    df_order_reviews AS r\n",
    "      ON op.order_id = r.order_id\n",
    "\"\"\"\n",
    ").df()\n",
    "\n",
    "master_table"
   ]
  },
  {
   "cell_type": "markdown",
   "id": "f3bcf767",
   "metadata": {},
   "source": [
    "### Using the lib GeoPY its possible to calculate the distance between two point using the latitude and longitude"
   ]
  },
  {
   "cell_type": "code",
   "execution_count": null,
   "id": "ed0112c5",
   "metadata": {},
   "outputs": [],
   "source": [
    "def calculate_distance(row):\n",
    "    customer_location = (row['customer_lat'], row['customer_lng'])\n",
    "    seller_location = (row['seller_lat'], row['seller_lng'])\n",
    "    return distance.distance(customer_location, seller_location).km\n",
    "\n",
    "\n",
    "master_table['delivery_distance'] = master_table.apply(calculate_distance, axis=1)\n",
    "\n",
    "master_table"
   ]
  },
  {
   "cell_type": "code",
   "execution_count": null,
   "id": "2cf209a5",
   "metadata": {},
   "outputs": [],
   "source": [
    "master_table_csv = duckdb.query(\n",
    "\"\"\"\n",
    "  SELECT\n",
    "    order_id,\n",
    "    review_score,\n",
    "    order_status,\n",
    "    order_approved_at,\n",
    "    order_delivered_customer_date,\n",
    "    order_estimated_delivery_date, \n",
    "\n",
    "    product_id,\n",
    "    price,\n",
    "    freight_value,\n",
    "    product_category_name,\n",
    "\n",
    "    customer_unique_id,\n",
    "    customer_zip_code_prefix,\n",
    "    customer_state,\n",
    "\n",
    "    seller_id,\n",
    "    seller_zip_code_prefix,\n",
    "    seller_state,\n",
    "    ROUND(delivery_distance, 2)\n",
    "  FROM\n",
    "    master_table\n",
    "\"\"\"\n",
    ").df()\n",
    "\n",
    "master_table_csv"
   ]
  },
  {
   "cell_type": "markdown",
   "id": "30a5f835",
   "metadata": {},
   "source": [
    "### Calculating the relationship between freigth cost and distance"
   ]
  },
  {
   "cell_type": "code",
   "execution_count": null,
   "id": "0c9396ec",
   "metadata": {},
   "outputs": [],
   "source": [
    "cents_per_km = duckdb.query(\n",
    "\"\"\"\n",
    "    SELECT\n",
    "        order_id,\n",
    "        product_id,\n",
    "        product_category_name,\n",
    "        freight_value,\n",
    "        CASE WHEN delivery_distance < 1 THEN 1 ELSE delivery_distance END AS delivery_distance,\n",
    "        freight_value / (CASE WHEN delivery_distance < 1 THEN 1 ELSE delivery_distance END) AS price_per_km  \n",
    "    FROM\n",
    "        master_table\n",
    "\"\"\"\n",
    ").df()\n",
    "\n",
    "cents_per_km"
   ]
  },
  {
   "cell_type": "markdown",
   "id": "7479cc51",
   "metadata": {},
   "source": [
    "### Analysis of the Freight values\n",
    "\n",
    "Grouped by Product Category with its minimum, maximum and the average"
   ]
  },
  {
   "cell_type": "code",
   "execution_count": null,
   "id": "6f25d82a",
   "metadata": {},
   "outputs": [],
   "source": [
    "freight_analysis = duckdb.query(\n",
    "\"\"\"\n",
    "    SELECT\n",
    "        product_category_name,\n",
    "        MIN(price_per_km) AS min_price_per_km,\n",
    "        MAX(price_per_km) AS max_price_per_km,\n",
    "        AVG(price_per_km) AS avg_price_per_km\n",
    "    FROM\n",
    "        cents_per_km\n",
    "    GROUP BY\n",
    "        1\n",
    "\"\"\"\n",
    ").df()\n",
    "\n",
    "freight_analysis"
   ]
  },
  {
   "cell_type": "markdown",
   "id": "7678720c",
   "metadata": {},
   "source": [
    "### Best Selling Products Categories"
   ]
  },
  {
   "cell_type": "code",
   "execution_count": null,
   "id": "468d1d99",
   "metadata": {},
   "outputs": [],
   "source": [
    "best_selling_products = duckdb.query(\n",
    "\"\"\"\n",
    "    SELECT\n",
    "        product_category_name,\n",
    "        COUNT(product_id) AS count_products,\n",
    "        SUM(price) AS sum_price\n",
    "    FROM\n",
    "        master_table\n",
    "    GROUP BY\n",
    "        1\n",
    "    ORDER BY \n",
    "        3 DESC\n",
    "\"\"\"\n",
    ").df()\n",
    "\n",
    "best_selling_products"
   ]
  },
  {
   "cell_type": "markdown",
   "id": "bd0f02b8",
   "metadata": {},
   "source": [
    "### Which Brazilian States have the highest average order price "
   ]
  },
  {
   "cell_type": "code",
   "execution_count": null,
   "id": "6baef60c",
   "metadata": {},
   "outputs": [],
   "source": [
    "highest_average_orders = duckdb.query(\n",
    "\"\"\"\n",
    "    SELECT\n",
    "        customer_state,\n",
    "        COUNT(product_id) AS count_products,\n",
    "        AVG(price) AS avg_price\n",
    "    FROM\n",
    "        master_table\n",
    "    GROUP BY\n",
    "        1\n",
    "    ORDER BY \n",
    "        3 DESC\n",
    "\"\"\"\n",
    ").df()\n",
    "\n",
    "highest_average_orders"
   ]
  },
  {
   "cell_type": "markdown",
   "id": "01da553b",
   "metadata": {},
   "source": [
    "# Part 3:\n",
    "\n",
    "## Solving Business Problems\n",
    "\n",
    "- Solving Business Problems\n",
    "    - Retention analysis of recurring customers (one or more orders in the analysis period) and which insights could we extract\n",
    "    - Late delivery prediction analysis:\n",
    "        - Define what a late delivery is.\n",
    "        - Use relevant fields to create the features for the model\n",
    "        - Divide train and test datasets\n",
    "        - Implement the prediction analisys using Random Forest Classifier\n",
    "        - Evaluate the model performance and explain the results\n",
    "    - Customer Segmentation: \n",
    "        - Segment the customers in groups\n",
    "        - Do a behavior analysis  of each group and suggest marketing strategies for each one.\n",
    "    - Customer Satisfaction: \n",
    "        - Explore the relationship between customer review score and other aspects, like product category, delivery time, average order price.\n",
    "        - Identify the factors that impact the most"
   ]
  },
  {
   "cell_type": "markdown",
   "id": "213add42",
   "metadata": {},
   "source": [
    "### Retention Analysis\n",
    "\n",
    "Data preparation:\n",
    "- Step 1: define the number of orders for each customer\n",
    "- Step 2: calculate the order delivery On Time or Late and other metrics for both customers\n",
    "- Step 3: analyse the results:\n",
    "    - Average review score, Average Ticket, Quantity of products by State"
   ]
  },
  {
   "cell_type": "code",
   "execution_count": null,
   "id": "f8c91a5f",
   "metadata": {},
   "outputs": [],
   "source": [
    "recurrent_customer_id = duckdb.query(\n",
    "\"\"\"\n",
    "    WITH recurrent_customer_id AS (\n",
    "        SELECT\n",
    "            customer_unique_id,\n",
    "            order_id,\n",
    "            order_approved_at,\n",
    "            SUM(price) AS sum_price,     \n",
    "            ROW_NUMBER() OVER(PARTITION BY customer_unique_id ORDER BY order_approved_at) AS order_number    \n",
    "        FROM\n",
    "            master_table\n",
    "        GROUP BY\n",
    "            1,2,3\n",
    "    )\n",
    "    SELECT\n",
    "        customer_unique_id        \n",
    "    FROM\n",
    "        recurrent_customer_id\n",
    "    WHERE\n",
    "        order_number > 1\n",
    "\"\"\"\n",
    ").df()\n",
    "\n",
    "recurrent_customer_id"
   ]
  },
  {
   "cell_type": "code",
   "execution_count": null,
   "id": "e5638772",
   "metadata": {},
   "outputs": [],
   "source": [
    "customer_orders = duckdb.query(\n",
    "\"\"\"\n",
    "    SELECT\n",
    "        mt.customer_unique_id,\n",
    "        CASE\n",
    "            WHEN rc.customer_unique_id IS NOT NULL THEN 'Recurrent Customer'\n",
    "            ELSE 'Single Order Customer'  \n",
    "        END AS customer_classification,\n",
    "        customer_state,\n",
    "\n",
    "        order_id,\n",
    "        product_category_name,\n",
    "        order_approved_at,\n",
    "        order_estimated_delivery_date,\n",
    "        order_delivered_customer_date,\n",
    "        ROUND(delivery_distance, 2) AS delivery_distance,\n",
    "\n",
    "        CASE\n",
    "            WHEN date_diff('day', order_approved_at, order_estimated_delivery_date) -\n",
    "                 date_diff('day', order_approved_at, order_delivered_customer_date) >= 0 THEN 'On Time Delivery'\n",
    "            ELSE 'Late Delivery'\n",
    "        END AS delivery_status,\n",
    "\n",
    "        COALESCE(MAX(review_score),0) AS review_score,\n",
    "        COUNT(product_id) AS qty_products,\n",
    "        SUM(price) AS sum_price        \n",
    "    FROM\n",
    "        master_table AS mt\n",
    "    LEFT JOIN\n",
    "        recurrent_customer_id AS rc\n",
    "        ON mt.customer_unique_id = rc.customer_unique_id\n",
    "    GROUP BY\n",
    "        1,2,3,4,5,6,7,8,9\n",
    "    ORDER BY\n",
    "        2\n",
    "\"\"\"\n",
    ").df()\n",
    "\n",
    "customer_orders"
   ]
  },
  {
   "cell_type": "markdown",
   "id": "3f542695",
   "metadata": {},
   "source": [
    "- Calculate for each customer, how many times each delivery status, the quantity of orders and products, the total spend and the average review score "
   ]
  },
  {
   "cell_type": "code",
   "execution_count": null,
   "id": "78dfefb6",
   "metadata": {},
   "outputs": [],
   "source": [
    "customer_agg = duckdb.query(\n",
    "\"\"\"\n",
    "    SELECT\n",
    "        customer_unique_id,\n",
    "        customer_classification,\n",
    "        customer_state,\n",
    "        product_category_name,\n",
    "        \n",
    "        SUM(CASE WHEN delivery_status = 'On Time Delivery' THEN 1 ELSE 0 END) AS on_time_delivery,\n",
    "        SUM(CASE WHEN delivery_status = 'Late Delivery' THEN 1 ELSE 0 END) AS late_delivery,\n",
    "\n",
    "        COUNT(order_id) AS qty_orders,\n",
    "        SUM(qty_products) AS qty_products,\n",
    "        SUM(sum_price) AS total_spend,\n",
    "        AVG(delivery_distance) AS avg_delivery_distance,\n",
    "        AVG(review_score) AS avg_review_score\n",
    "    FROM\n",
    "        customer_orders\n",
    "    GROUP BY\n",
    "        1,2,3,4\n",
    "    ORDER BY\n",
    "        1\n",
    "\"\"\"\n",
    ").df()\n",
    "\n",
    "customer_agg"
   ]
  },
  {
   "cell_type": "markdown",
   "id": "0e1a3d8f",
   "metadata": {},
   "source": [
    "- Agregating per state and calculating the delivery percent, quantity orders and products, total spend and the average delivery distance and review score"
   ]
  },
  {
   "cell_type": "code",
   "execution_count": null,
   "id": "0e198f5c",
   "metadata": {},
   "outputs": [],
   "source": [
    "customer_agg_recurrent = duckdb.query(\n",
    "\"\"\"\n",
    "    SELECT\n",
    "        customer_state,\n",
    "        \n",
    "        ROUND(SUM(late_delivery) / SUM(qty_orders), 2) AS late_delivery_percent,\n",
    "\n",
    "        SUM(qty_orders) AS qty_orders,\n",
    "        SUM(qty_products) AS qty_products,\n",
    "        ROUND(SUM(total_spend), 2) AS total_spend,\n",
    "        ROUND(AVG(avg_delivery_distance), 2) AS avg_delivery_distance,\n",
    "        ROUND(AVG(avg_review_score), 2) AS avg_review_score\n",
    "\n",
    "    FROM\n",
    "        customer_agg\n",
    "    WHERE\n",
    "        customer_classification = 'Recurrent Customer'\n",
    "    GROUP BY\n",
    "        1\n",
    "    ORDER BY\n",
    "        6 DESC\n",
    "\"\"\"\n",
    ").df()\n",
    "\n",
    "customer_agg_recurrent"
   ]
  },
  {
   "cell_type": "markdown",
   "id": "5565a168",
   "metadata": {},
   "source": [
    "With this Analysis we can afirm:\n",
    "- When the average distance of delivery is higher then 1400km, there's a huge drop in total sales\n",
    "- The most distant State also have the highest Late Delivery Percentage and lowest Average Review Score\n",
    "- SP is the biggest state in quantity of orders, products and spend and also have the lowest Average Delivery Distance\n",
    "- The higher Average Review Score, the lowest Late Delivery Percentage is "
   ]
  },
  {
   "cell_type": "markdown",
   "id": "7c30ce55",
   "metadata": {},
   "source": [
    "## Late delivery prediction analysis:\n",
    "- Define what a late delivery is.\n",
    "- Use relevant fields to create the features for the model\n",
    "- Divide train and test datasets\n",
    "- Implement the prediction analisys using Logistic Regression\n",
    "- Evaluate the model performance and explain the results\n"
   ]
  },
  {
   "cell_type": "markdown",
   "id": "323729b5",
   "metadata": {},
   "source": [
    "## Customer Segmentation: \n",
    "- Segment the customers in groups\n",
    "- Do a behavior analysis  of each group and suggest marketing strategies for each one.\n",
    "\n"
   ]
  },
  {
   "cell_type": "code",
   "execution_count": null,
   "id": "73f72b4e",
   "metadata": {},
   "outputs": [],
   "source": []
  },
  {
   "cell_type": "code",
   "execution_count": null,
   "id": "ad2b41b6",
   "metadata": {},
   "outputs": [],
   "source": [
    "customer_segmentation = duckdb.query(\n",
    "\"\"\"\n",
    "  SELECT\n",
    "    CASE\n",
    "      WHEN customer_state IN ('DF', 'GO', 'MS') THEN 'Centro-Oeste'\n",
    "      WHEN customer_state IN ('ES', 'MG', 'RJ', 'SP') THEN 'Sudeste'\n",
    "      WHEN customer_state IN ('PR', 'RS', 'SC') THEN 'Sul'\n",
    "      WHEN customer_state IN ('AL', 'BA', 'CE', 'MA', 'PB', 'PE', 'PI', 'RN', 'SE') THEN 'Nordeste'\n",
    "      WHEN customer_state IN ('AC','AP','AM','PA','RO','RR','TO') THEN 'Norte'\n",
    "      ELSE 'Other Region'\n",
    "    END customer_region,\n",
    "\n",
    "    CASE\n",
    "        WHEN delivery_distance >= 2500 THEN 'Long Delivery Distance'\n",
    "        WHEN delivery_distance >= 1000 THEN 'Mid Delivery Distance'\n",
    "        ELSE 'Short Delivery Distance'\n",
    "    END AS delivery_distance_group,\n",
    "\n",
    "    CASE\n",
    "        WHEN price >= 2500 THEN 'High Medium Ticket'\n",
    "        WHEN price >= 750 THEN 'Mid Medium Ticket'\n",
    "        ELSE 'Low Medium Ticket'  \n",
    "    END AS order_price_group,\n",
    "    \n",
    "    COUNT(DISTINCT customer_unique_id) AS count_customer,\n",
    "    COUNT(DISTINCT order_id) AS total_orders,\n",
    "    COUNT(order_id) AS total_products,\n",
    "    ROUND(AVG(price), 2) AS avg_price,\n",
    "    ROUND(SUM(price), 2) AS total_price,\n",
    "    ROUND(AVG(freight_value), 2) AS avg_freight_value,\n",
    "    ROUND(AVG(delivery_distance), 2) AS avg_delivery_distance\n",
    "  FROM\n",
    "    master_table\n",
    "  GROUP BY\n",
    "    1,2,3\n",
    "  ORDER BY\n",
    "    4 DESC\n",
    "\"\"\"\n",
    ").df()\n",
    "\n",
    "customer_segmentation"
   ]
  },
  {
   "cell_type": "markdown",
   "id": "d8480acb",
   "metadata": {},
   "source": [
    "### Marketing Strategies\n",
    "- Making freight free offers on Short Delivery Distance for Low Medium Ticket in the Sudeste and Sul regions as they are the Top 1 and Top 2 in revenue and product count, as they freight costs are almost 20% of the product cost, on average. This strategy could decresce the customer acquisition prices, building customer loyalty.\n",
    "- For Norte and Nordeste regions, the majority of the customers are in the Mid to Long Delivery Distances, with high freight costs, the strategy here of having discounts in cumulative products in the same shopping cart.\n"
   ]
  },
  {
   "cell_type": "markdown",
   "id": "4c6292ee",
   "metadata": {},
   "source": [
    "## Customer Satisfaction: \n",
    "- Explore the relationship between customer review score and other aspects, like product category, delivery time, average order price.\n",
    "- Identify the factors that impact the most"
   ]
  },
  {
   "cell_type": "code",
   "execution_count": null,
   "id": "2b056e34",
   "metadata": {},
   "outputs": [],
   "source": [
    "# review score and delivery distance \n",
    "\n",
    "delivery_distance_review = duckdb.query(\n",
    "\"\"\"\n",
    "    SELECT\n",
    "        CASE\n",
    "            WHEN delivery_distance >= 2500 THEN '2500 Km +'\n",
    "            WHEN delivery_distance >= 1500 THEN '1500 - 2499 Km'\n",
    "            WHEN delivery_distance >= 1000 THEN '1000 - 1499 Km'\n",
    "            WHEN delivery_distance >= 750 THEN '750 - 999 Km'\n",
    "            WHEN delivery_distance >= 500 THEN '500 - 749 Km'\n",
    "            WHEN delivery_distance >= 250 THEN '250 - 499 Km'\n",
    "            WHEN delivery_distance >= 100 THEN '100 - 249 Km'\n",
    "            ELSE 'Up to 50 Km'  \n",
    "        END AS delivery_distance,\n",
    "       \n",
    "        ROUND(AVG(review_score), 2) AS avg_review_score,\n",
    "        COUNT(order_id) AS total_orders\n",
    "    FROM\n",
    "        master_table\n",
    "    WHERE\n",
    "        review_score >= 1\n",
    "    GROUP BY\n",
    "        1\n",
    "    ORDER BY\n",
    "        2\n",
    "\"\"\"\n",
    ").df()\n",
    "\n",
    "delivery_distance_review"
   ]
  },
  {
   "cell_type": "markdown",
   "id": "f92e3c51",
   "metadata": {},
   "source": [
    "### Results:\n",
    "- By looking at delivery distances, we can see that the average after 1000km goes lower than 4.0, meaning that farthest the seller is the lower the review score gets, getting on a stale average between 250 and 999 km and up to 249 the review score average goes to 4.21, the biggest average"
   ]
  },
  {
   "cell_type": "code",
   "execution_count": null,
   "id": "17d2dbd5",
   "metadata": {},
   "outputs": [],
   "source": [
    "# review score and product category\n",
    "\n",
    "product_category_review = duckdb.query(\n",
    "\"\"\"\n",
    "    SELECT\n",
    "        product_category_name,\n",
    "       \n",
    "        ROUND(AVG(review_score), 2) AS avg_review_score,\n",
    "        COUNT(order_id) AS total_orders\n",
    "    FROM\n",
    "        master_table\n",
    "    WHERE\n",
    "        review_score >= 1\n",
    "    GROUP BY\n",
    "        1\n",
    "    ORDER BY\n",
    "        2\n",
    "\"\"\"\n",
    ").df()\n",
    "\n",
    "product_category_review"
   ]
  },
  {
   "cell_type": "code",
   "execution_count": null,
   "id": "edd01ae5",
   "metadata": {},
   "outputs": [],
   "source": [
    "# review score and delivery time\n",
    "\n",
    "delivery_time_review = duckdb.query(\n",
    "\"\"\"\n",
    "    SELECT\n",
    "        CASE\n",
    "            WHEN date_diff('day', order_approved_at, order_delivered_customer_date) <= 5 THEN 'Up to 5 Days'\n",
    "            WHEN date_diff('day', order_approved_at, order_delivered_customer_date) <= 10 THEN 'Up to 10 Days'\n",
    "            WHEN date_diff('day', order_approved_at, order_delivered_customer_date) <= 15 THEN 'Up to 15 Days'\n",
    "            WHEN date_diff('day', order_approved_at, order_delivered_customer_date) <= 20 THEN 'Up to 20 Days'\n",
    "            WHEN date_diff('day', order_approved_at, order_delivered_customer_date) <= 25 THEN 'Up to 25 Days'\n",
    "            WHEN date_diff('day', order_approved_at, order_delivered_customer_date) <= 30 THEN 'Up to 30 Days'\n",
    "            ELSE '30+ Days'\n",
    "        END days_to_delivery,\n",
    "\n",
    "        ROUND(AVG(review_score), 2) AS avg_review_score,\n",
    "        COUNT(order_id) AS total_orders\n",
    "    FROM\n",
    "        master_table\n",
    "    WHERE\n",
    "        review_score >= 1\n",
    "        AND order_status = 'delivered'\n",
    "    GROUP BY\n",
    "        1\n",
    "    ORDER BY\n",
    "        2\n",
    "\"\"\"\n",
    ").df()\n",
    "\n",
    "delivery_time_review\n"
   ]
  },
  {
   "cell_type": "markdown",
   "id": "24634b69",
   "metadata": {},
   "source": [
    "### Results:\n",
    "- As we can see, the longer the days to delivered, the lower is the Average Review Score"
   ]
  },
  {
   "cell_type": "code",
   "execution_count": null,
   "id": "58044ef7",
   "metadata": {},
   "outputs": [],
   "source": [
    "# review score and average order price\n",
    "\n",
    "average_price_review = duckdb.query(\n",
    "\"\"\"\n",
    "    WITH sum_orders_prices AS (\n",
    "        SELECT\n",
    "            order_id,\n",
    "            customer_unique_id,\n",
    "            MAX(review_score) AS review_score,\n",
    "            SUM(price) AS price\n",
    "        FROM\n",
    "            master_table\n",
    "        WHERE\n",
    "            order_status = 'delivered'\n",
    "        GROUP BY\n",
    "            1,2\n",
    "    )\n",
    "\n",
    "    SELECT\n",
    "        CASE\n",
    "            WHEN price <= 50 THEN 'Up to R$50'\n",
    "            WHEN price <= 100 THEN 'R$100 - R$149'\n",
    "            WHEN price <= 150 THEN 'R$150 - R$249'\n",
    "            WHEN price <= 250 THEN 'R$250 - R$499'\n",
    "            WHEN price <= 500 THEN '$500 - R$1499'\n",
    "            ELSE 'R$1500 +'\n",
    "        END days_to_delivery,\n",
    "\n",
    "        ROUND(AVG(review_score), 2) AS avg_review_score,\n",
    "        COUNT(order_id) AS total_orders\n",
    "    FROM\n",
    "        sum_orders_prices\n",
    "    GROUP BY\n",
    "        1\n",
    "    ORDER BY\n",
    "        2\n",
    "\"\"\"\n",
    ").df()\n",
    "\n",
    "average_price_review"
   ]
  },
  {
   "cell_type": "markdown",
   "id": "0f62a0a6",
   "metadata": {},
   "source": [
    "### Results:\n",
    "- The Review Averages were pretty balanced, but the higher the prices more criticism towards the orders"
   ]
  },
  {
   "cell_type": "markdown",
   "id": "2c0ceaf0",
   "metadata": {},
   "source": [
    "### Overall results: \n",
    "- The biggest issue found was delivery time, it has the lowest average review scores of all the 4 tests, followed by some Product Categories"
   ]
  },
  {
   "cell_type": "markdown",
   "id": "ebb0ea56",
   "metadata": {},
   "source": [
    "# Part 4:\n",
    "\n",
    "## Data Visualization\n",
    "\n",
    "- Visualization and Dashboarding\n",
    "    - MoM Barchart of Orders filtered by Brazil States and Product Category\n",
    "    - Heatmap of Orders by Region/Brazil States\n",
    "    - Multiple graphs show the relationship between customer satisfaction and delivery time\n",
    "    - A dashboard comparing different vendors with best performance in sales, customer satisfaction and delivery time"
   ]
  },
  {
   "cell_type": "markdown",
   "id": "89d2b0f3",
   "metadata": {},
   "source": [
    "### Dashboard is acessable in this link: https://lookerstudio.google.com/reporting/4c659dbf-b589-4d1a-8e82-a980ac948a77"
   ]
  },
  {
   "cell_type": "markdown",
   "id": "fe58647b",
   "metadata": {},
   "source": []
  }
 ],
 "metadata": {
  "kernelspec": {
   "display_name": "Python 3",
   "language": "python",
   "name": "python3"
  },
  "language_info": {
   "codemirror_mode": {
    "name": "ipython",
    "version": 3
   },
   "file_extension": ".py",
   "mimetype": "text/x-python",
   "name": "python",
   "nbconvert_exporter": "python",
   "pygments_lexer": "ipython3",
   "version": "3.11.8"
  }
 },
 "nbformat": 4,
 "nbformat_minor": 5
}
